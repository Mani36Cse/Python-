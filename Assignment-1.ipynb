{
 "cells": [
  {
   "cell_type": "code",
   "execution_count": 1,
   "id": "f175f5d3",
   "metadata": {},
   "outputs": [
    {
     "name": "stdout",
     "output_type": "stream",
     "text": [
      "Welcome to Assignment-1\n"
     ]
    }
   ],
   "source": [
    "print(\"Welcome to Assignment-1\")"
   ]
  },
  {
   "cell_type": "code",
   "execution_count": 2,
   "id": "f3977346",
   "metadata": {},
   "outputs": [
    {
     "name": "stdout",
     "output_type": "stream",
     "text": [
      "Num 1 = 10\n",
      "Num 2 = 30\n",
      "Add = 40\n"
     ]
    }
   ],
   "source": [
    "a=10\n",
    "b=30\n",
    "c=a+b\n",
    "print(\"Num 1 =\",a)\n",
    "print(\"Num 2 =\",b)\n",
    "print(\"Add =\",c)"
   ]
  },
  {
   "cell_type": "code",
   "execution_count": 18,
   "id": "4d0f3d2f",
   "metadata": {},
   "outputs": [
    {
     "name": "stdin",
     "output_type": "stream",
     "text": [
      "Enter the BMI Index:  20\n"
     ]
    },
    {
     "name": "stdout",
     "output_type": "stream",
     "text": [
      "Normal Weight\n"
     ]
    }
   ],
   "source": [
    "D=int(input(\"Enter the BMI Index: \"))\n",
    "if D<18:\n",
    "    print(\"Under Weight\")\n",
    "elif 18<=D and D<=24:\n",
    "    print(\"Normal Weight\")\n",
    "elif 25<=D and D<=29:\n",
    "    print(\"Over Weight\")\n",
    "elif 30<=D and D<=34:\n",
    "    print(\"Obesity\")\n",
    "elif 35<=D and 39>=D:\n",
    "    print(\"Exterm Obesity\")\n",
    "    "
   ]
  },
  {
   "cell_type": "code",
   "execution_count": null,
   "id": "9040e1d2",
   "metadata": {},
   "outputs": [],
   "source": []
  }
 ],
 "metadata": {
  "kernelspec": {
   "display_name": "Python 3 (ipykernel)",
   "language": "python",
   "name": "python3"
  },
  "language_info": {
   "codemirror_mode": {
    "name": "ipython",
    "version": 3
   },
   "file_extension": ".py",
   "mimetype": "text/x-python",
   "name": "python",
   "nbconvert_exporter": "python",
   "pygments_lexer": "ipython3",
   "version": "3.10.9"
  }
 },
 "nbformat": 4,
 "nbformat_minor": 5
}
