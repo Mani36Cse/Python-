{
 "cells": [
  {
   "cell_type": "code",
   "execution_count": 6,
   "id": "fc202264",
   "metadata": {},
   "outputs": [],
   "source": [
    "AI=[\"Machine Learning\",\"Neural Networks\",\"Vision\",\"Robotics\",\"Speech Processing\",\"Natural Language Processing\"]"
   ]
  },
  {
   "cell_type": "code",
   "execution_count": 54,
   "id": "5c8ab1df",
   "metadata": {},
   "outputs": [],
   "source": [
    "def subfieldsofAI():\n",
    "    print(\"Sub-fields in AI are:\")\n",
    "    for a in AI:\n",
    "        print(a)"
   ]
  },
  {
   "cell_type": "code",
   "execution_count": 57,
   "id": "48e803df",
   "metadata": {},
   "outputs": [
    {
     "name": "stdout",
     "output_type": "stream",
     "text": [
      "Sub-fields in AI are:\n",
      "Machine Learning\n",
      "Neural Networks\n",
      "Vision\n",
      "Robotics\n",
      "Speech Processing\n",
      "Natural Language Processing\n"
     ]
    }
   ],
   "source": [
    "subfieldsofAI()"
   ]
  },
  {
   "cell_type": "code",
   "execution_count": null,
   "id": "9a64a50f",
   "metadata": {},
   "outputs": [],
   "source": []
  },
  {
   "cell_type": "code",
   "execution_count": 83,
   "id": "f48d443e",
   "metadata": {},
   "outputs": [],
   "source": [
    "def OddEven():\n",
    "    a=int(input(\"Enter the number :\"))\n",
    "    if (a%2)==0:\n",
    "        b=f\"{a} is even number\"\n",
    "    else:\n",
    "        b=f\"{a}is odd number\"\n",
    "    return b"
   ]
  },
  {
   "cell_type": "code",
   "execution_count": 87,
   "id": "ca942f47",
   "metadata": {},
   "outputs": [
    {
     "name": "stdout",
     "output_type": "stream",
     "text": [
      "Enter the number :12\n"
     ]
    }
   ],
   "source": [
    "number=OddEven()"
   ]
  },
  {
   "cell_type": "code",
   "execution_count": 88,
   "id": "4e1780dc",
   "metadata": {},
   "outputs": [
    {
     "name": "stdout",
     "output_type": "stream",
     "text": [
      "12 is even number\n"
     ]
    }
   ],
   "source": [
    "print(number)"
   ]
  },
  {
   "cell_type": "code",
   "execution_count": null,
   "id": "3644cdf9",
   "metadata": {},
   "outputs": [],
   "source": []
  },
  {
   "cell_type": "code",
   "execution_count": 101,
   "id": "d9247632",
   "metadata": {},
   "outputs": [],
   "source": [
    "def Elegible():\n",
    "    h=int(input(\"Enter 1 for Male, Enter 2 for Female :\"))\n",
    "    g=int(input(\"Enter your age :\"))\n",
    "    if (h == 1 and g >= 21) or (h == 2 and g >= 18):\n",
    "        print(\"Your ELIGIBLE\")\n",
    "    else:\n",
    "        print(\"Not ELIGIBLE\")"
   ]
  },
  {
   "cell_type": "code",
   "execution_count": 104,
   "id": "aaa3e7b2",
   "metadata": {},
   "outputs": [
    {
     "name": "stdout",
     "output_type": "stream",
     "text": [
      "Enter 1 for Male, Enter 2 for Female :1\n",
      "Enter your age :21\n",
      "Your ELIGIBLE\n"
     ]
    }
   ],
   "source": [
    "Elegible()"
   ]
  },
  {
   "cell_type": "code",
   "execution_count": null,
   "id": "49a14309",
   "metadata": {},
   "outputs": [],
   "source": []
  },
  {
   "cell_type": "code",
   "execution_count": 129,
   "id": "74daf763",
   "metadata": {},
   "outputs": [],
   "source": [
    "def percentage(sub_1,sub_2,sub_3,sub_4,sub_5):\n",
    "    s=sub_1+sub_2+sub_3+sub_4+sub_5\n",
    "    per=(s/500)*100\n",
    "    print(\"Toatl :\",s)\n",
    "    print(\"percentage :\",per)\n",
    "    "
   ]
  },
  {
   "cell_type": "code",
   "execution_count": 130,
   "id": "c48be0ed",
   "metadata": {},
   "outputs": [
    {
     "name": "stdout",
     "output_type": "stream",
     "text": [
      "Toatl : 468\n",
      "percentage : 93.60000000000001\n"
     ]
    }
   ],
   "source": [
    "percentage(98,87,95,95,93)"
   ]
  },
  {
   "cell_type": "code",
   "execution_count": null,
   "id": "5f750eda",
   "metadata": {},
   "outputs": [],
   "source": []
  },
  {
   "cell_type": "code",
   "execution_count": 162,
   "id": "8daf6485",
   "metadata": {},
   "outputs": [],
   "source": [
    "def triangle(Height,Breadth):\n",
    "    h=(Height*Breadth)/2\n",
    "    g=\"Area of Triangle: \"\n",
    "    return g+str(h)\n",
    "    "
   ]
  },
  {
   "cell_type": "code",
   "execution_count": 163,
   "id": "6d7786c6",
   "metadata": {},
   "outputs": [],
   "source": [
    "tre=triangle(32,34)"
   ]
  },
  {
   "cell_type": "code",
   "execution_count": 164,
   "id": "b06af0a0",
   "metadata": {},
   "outputs": [
    {
     "name": "stdout",
     "output_type": "stream",
     "text": [
      "Area of Triangle: 544.0\n"
     ]
    }
   ],
   "source": [
    "print(tre)"
   ]
  },
  {
   "cell_type": "code",
   "execution_count": 177,
   "id": "cc8c8ee3",
   "metadata": {},
   "outputs": [],
   "source": [
    "def triangle(Height1,Height2,Breadth):\n",
    "    total=Height1+Height2+Breadth\n",
    "    k=\"Perimeter of Triangle: \"\n",
    "    return k+str(total)"
   ]
  },
  {
   "cell_type": "code",
   "execution_count": 178,
   "id": "8815981d",
   "metadata": {},
   "outputs": [],
   "source": [
    "per=triangle(2,4,4)"
   ]
  },
  {
   "cell_type": "code",
   "execution_count": 179,
   "id": "1960b345",
   "metadata": {},
   "outputs": [
    {
     "name": "stdout",
     "output_type": "stream",
     "text": [
      "Perimeter of Triangle: 10\n"
     ]
    }
   ],
   "source": [
    "print(per)"
   ]
  },
  {
   "cell_type": "code",
   "execution_count": null,
   "id": "da986bcc",
   "metadata": {},
   "outputs": [],
   "source": []
  }
 ],
 "metadata": {
  "kernelspec": {
   "display_name": "Python 3 (ipykernel)",
   "language": "python",
   "name": "python3"
  },
  "language_info": {
   "codemirror_mode": {
    "name": "ipython",
    "version": 3
   },
   "file_extension": ".py",
   "mimetype": "text/x-python",
   "name": "python",
   "nbconvert_exporter": "python",
   "pygments_lexer": "ipython3",
   "version": "3.10.9"
  }
 },
 "nbformat": 4,
 "nbformat_minor": 5
}
