{
 "cells": [
  {
   "cell_type": "code",
   "execution_count": 4,
   "id": "26ad375a",
   "metadata": {},
   "outputs": [
    {
     "name": "stdout",
     "output_type": "stream",
     "text": [
      "Enter the Value :12\n"
     ]
    }
   ],
   "source": [
    "i=int(input(\"Enter the Value :\"))\n",
    "if i == 10:\n",
    "    print(\"Correct\")"
   ]
  },
  {
   "cell_type": "code",
   "execution_count": 6,
   "id": "64ea2cf7",
   "metadata": {},
   "outputs": [
    {
     "name": "stdout",
     "output_type": "stream",
     "text": [
      "Enter the Password :HOPE@123\n",
      "Your password is correct\n"
     ]
    }
   ],
   "source": [
    "P=input(\"Enter the Password :\")\n",
    "B=\"HOPE@123\"\n",
    "if P==B:\n",
    "    print(\"Your password is correct\")"
   ]
  },
  {
   "cell_type": "code",
   "execution_count": 11,
   "id": "efb3c892",
   "metadata": {},
   "outputs": [
    {
     "name": "stdout",
     "output_type": "stream",
     "text": [
      "Enter any number:-1\n",
      "No is positive\n"
     ]
    }
   ],
   "source": [
    "K=int(input(\"Enter any number:\"))\n",
    "if K>0:\n",
    "    print(\"It's positive No :\",K)\n",
    "else:\n",
    "    print(\"No is positive\")"
   ]
  },
  {
   "cell_type": "code",
   "execution_count": 9,
   "id": "e5f8664f",
   "metadata": {},
   "outputs": [
    {
     "name": "stdout",
     "output_type": "stream",
     "text": [
      "Enter a number to check:60\n",
      "The give number is Divisible by 5\n"
     ]
    }
   ],
   "source": [
    "H=int(input(\"Enter a number to check:\"))\n",
    "if H%5==0:\n",
    "    print(\"The give number is Divisible by 5\")\n",
    "else:\n",
    "    print(\"No is not divisible by 5\")"
   ]
  },
  {
   "cell_type": "code",
   "execution_count": null,
   "id": "f2105670",
   "metadata": {},
   "outputs": [],
   "source": []
  }
 ],
 "metadata": {
  "kernelspec": {
   "display_name": "Python 3 (ipykernel)",
   "language": "python",
   "name": "python3"
  },
  "language_info": {
   "codemirror_mode": {
    "name": "ipython",
    "version": 3
   },
   "file_extension": ".py",
   "mimetype": "text/x-python",
   "name": "python",
   "nbconvert_exporter": "python",
   "pygments_lexer": "ipython3",
   "version": "3.10.9"
  }
 },
 "nbformat": 4,
 "nbformat_minor": 5
}
