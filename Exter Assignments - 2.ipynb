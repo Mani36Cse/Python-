{
 "cells": [
  {
   "cell_type": "code",
   "execution_count": 1,
   "id": "f6cb48b5",
   "metadata": {},
   "outputs": [
    {
     "name": "stdout",
     "output_type": "stream",
     "text": [
      "0\n",
      "1\n",
      "2\n",
      "3\n",
      "4\n",
      "5\n",
      "6\n",
      "7\n",
      "8\n",
      "9\n",
      "10\n",
      "11\n",
      "12\n",
      "13\n",
      "14\n",
      "15\n",
      "16\n",
      "17\n",
      "18\n",
      "19\n"
     ]
    }
   ],
   "source": [
    "# 0 to 20 by using range\n",
    "for d in range(0,20):\n",
    "    print(d)"
   ]
  },
  {
   "cell_type": "code",
   "execution_count": 11,
   "id": "5c183e40",
   "metadata": {},
   "outputs": [
    {
     "name": "stdout",
     "output_type": "stream",
     "text": [
      "10 11 12 13 14 15 16 17 18 19 "
     ]
    }
   ],
   "source": [
    "\n",
    "for c in range(10,20):\n",
    "    print(c,end=\" \")"
   ]
  },
  {
   "cell_type": "code",
   "execution_count": 16,
   "id": "204a0919",
   "metadata": {},
   "outputs": [
    {
     "name": "stdout",
     "output_type": "stream",
     "text": [
      "Number of item in the List: 7\n"
     ]
    }
   ],
   "source": [
    "L=[10, 20, 14, 55, 43, 87, 76]\n",
    "print(\"Number of item in the List:\",len(L))"
   ]
  },
  {
   "cell_type": "code",
   "execution_count": 2,
   "id": "4aceeb1b",
   "metadata": {},
   "outputs": [
    {
     "name": "stdout",
     "output_type": "stream",
     "text": [
      "Artificial Intelligence\n",
      "A\n",
      "r\n",
      "t\n",
      "i\n",
      "f\n",
      "i\n",
      "c\n",
      "i\n",
      "a\n",
      "l\n",
      " \n",
      "I\n",
      "n\n",
      "t\n",
      "e\n",
      "l\n",
      "l\n",
      "i\n",
      "g\n",
      "e\n",
      "n\n",
      "c\n",
      "e\n"
     ]
    }
   ],
   "source": [
    "AI=\"Artificial Intelligence\"\n",
    "print(AI)\n",
    "for F in AI:\n",
    "    print(F)"
   ]
  },
  {
   "cell_type": "code",
   "execution_count": 1,
   "id": "d5a2c40d",
   "metadata": {},
   "outputs": [
    {
     "name": "stdout",
     "output_type": "stream",
     "text": [
      "-Your Name-\n",
      "-Your Age-\n",
      "-Your Profession-\n"
     ]
    }
   ],
   "source": [
    "A=(\"-Your Name-\",\"-Your Age-\",\"-Your Profession-\")\n",
    "for B in A:\n",
    "    print(B)"
   ]
  },
  {
   "cell_type": "code",
   "execution_count": 13,
   "id": "a32c2d57",
   "metadata": {},
   "outputs": [
    {
     "name": "stdout",
     "output_type": "stream",
     "text": [
      "Tuple with Mixed Datatypes:  (1, 'Welcome', 2, 'Hope')\n"
     ]
    }
   ],
   "source": [
    "T=(1, 'Welcome', 2, 'Hope')\n",
    "print(\"Tuple with Mixed Datatypes: \",T)"
   ]
  },
  {
   "cell_type": "code",
   "execution_count": 16,
   "id": "1cbe9fc6",
   "metadata": {},
   "outputs": [
    {
     "name": "stdout",
     "output_type": "stream",
     "text": [
      "Tuple with nested tuples:  ((0, 1, 2, 3), ('python', 'HOPE'))\n"
     ]
    }
   ],
   "source": [
    "T1=(0, 1, 2, 3) \n",
    "T2=('python', 'HOPE')\n",
    "T3=(T1,T2)\n",
    "print(\"Tuple with nested tuples: \",T3)"
   ]
  },
  {
   "cell_type": "code",
   "execution_count": 4,
   "id": "6f2e71b7",
   "metadata": {},
   "outputs": [
    {
     "name": "stdout",
     "output_type": "stream",
     "text": [
      "19 is Odd\n",
      "25 is Odd\n",
      "1 is Odd\n"
     ]
    }
   ],
   "source": [
    "L=[20,10,16,19,25,1,276,188]\n",
    "for G in L:\n",
    "    if G%2!=0:\n",
    "        print(G,\"is Odd\")"
   ]
  },
  {
   "cell_type": "code",
   "execution_count": 3,
   "id": "c6d8433e",
   "metadata": {},
   "outputs": [
    {
     "name": "stdout",
     "output_type": "stream",
     "text": [
      "20 is Even\n",
      "10 is Even\n",
      "16 is Even\n",
      "276 is Even\n",
      "188 is Even\n"
     ]
    }
   ],
   "source": [
    "L=[20,10,16,19,25,1,276,188]\n",
    "for H in L:\n",
    "    if H%2==0:\n",
    "        print(H,\"is Even\")"
   ]
  },
  {
   "cell_type": "code",
   "execution_count": null,
   "id": "22423bbd",
   "metadata": {},
   "outputs": [],
   "source": []
  }
 ],
 "metadata": {
  "kernelspec": {
   "display_name": "Python 3 (ipykernel)",
   "language": "python",
   "name": "python3"
  },
  "language_info": {
   "codemirror_mode": {
    "name": "ipython",
    "version": 3
   },
   "file_extension": ".py",
   "mimetype": "text/x-python",
   "name": "python",
   "nbconvert_exporter": "python",
   "pygments_lexer": "ipython3",
   "version": "3.10.9"
  }
 },
 "nbformat": 4,
 "nbformat_minor": 5
}
