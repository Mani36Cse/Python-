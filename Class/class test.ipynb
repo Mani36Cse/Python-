{
 "cells": [
  {
   "cell_type": "code",
   "execution_count": 1,
   "id": "412d8ea0",
   "metadata": {},
   "outputs": [],
   "source": [
    "from Python_Class import SubfieldsInAI"
   ]
  },
  {
   "cell_type": "code",
   "execution_count": 2,
   "id": "0040062f",
   "metadata": {},
   "outputs": [
    {
     "name": "stdout",
     "output_type": "stream",
     "text": [
      "Sub-fields in AI are:\n",
      "Machine Learning\n",
      "Neural Networks\n",
      "Vision\n",
      "Robotics\n",
      "Speech Processing\n",
      "Natural Language Processing\n"
     ]
    }
   ],
   "source": [
    "SubfieldsInAI.Subfields()"
   ]
  },
  {
   "cell_type": "code",
   "execution_count": 24,
   "id": "2902d71a",
   "metadata": {},
   "outputs": [
    {
     "name": "stdout",
     "output_type": "stream",
     "text": [
      "Enter the number :16\n"
     ]
    },
    {
     "data": {
      "text/plain": [
       "'16 is even number'"
      ]
     },
     "execution_count": 24,
     "metadata": {},
     "output_type": "execute_result"
    }
   ],
   "source": [
    "SubfieldsInAI.OddEven()"
   ]
  },
  {
   "cell_type": "code",
   "execution_count": 2,
   "id": "1055da80",
   "metadata": {},
   "outputs": [
    {
     "name": "stdout",
     "output_type": "stream",
     "text": [
      "Enter 1 for Male, Enter 2 for Female :1\n",
      "Enter your age :22\n",
      "Your ELIGIBLE\n"
     ]
    }
   ],
   "source": [
    "SubfieldsInAI.Elegible()"
   ]
  },
  {
   "cell_type": "code",
   "execution_count": 15,
   "id": "4860e684",
   "metadata": {},
   "outputs": [
    {
     "name": "stdout",
     "output_type": "stream",
     "text": [
      "Toatl : 468\n",
      "percentage : 93.60000000000001\n"
     ]
    }
   ],
   "source": [
    "SubfieldsInAI.percentage(98,87,95,95,93)"
   ]
  },
  {
   "cell_type": "code",
   "execution_count": 17,
   "id": "1b893c5c",
   "metadata": {},
   "outputs": [
    {
     "data": {
      "text/plain": [
       "'Perimeter of Triangle: 10'"
      ]
     },
     "execution_count": 17,
     "metadata": {},
     "output_type": "execute_result"
    }
   ],
   "source": [
    "SubfieldsInAI.triangle(2,4,4)"
   ]
  },
  {
   "cell_type": "code",
   "execution_count": 18,
   "id": "b1652df9",
   "metadata": {},
   "outputs": [
    {
     "data": {
      "text/plain": [
       "'Area of Triangle: 544.0'"
      ]
     },
     "execution_count": 18,
     "metadata": {},
     "output_type": "execute_result"
    }
   ],
   "source": [
    "SubfieldsInAI.tr(32,34)"
   ]
  },
  {
   "cell_type": "code",
   "execution_count": null,
   "id": "5a22e3ca",
   "metadata": {},
   "outputs": [],
   "source": []
  }
 ],
 "metadata": {
  "kernelspec": {
   "display_name": "Python 3 (ipykernel)",
   "language": "python",
   "name": "python3"
  },
  "language_info": {
   "codemirror_mode": {
    "name": "ipython",
    "version": 3
   },
   "file_extension": ".py",
   "mimetype": "text/x-python",
   "name": "python",
   "nbconvert_exporter": "python",
   "pygments_lexer": "ipython3",
   "version": "3.10.9"
  }
 },
 "nbformat": 4,
 "nbformat_minor": 5
}
