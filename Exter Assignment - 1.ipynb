{
 "cells": [
  {
   "cell_type": "code",
   "execution_count": 2,
   "id": "9a7d4beb",
   "metadata": {},
   "outputs": [
    {
     "name": "stdout",
     "output_type": "stream",
     "text": [
      "HOPE AI\n"
     ]
    }
   ],
   "source": [
    "print(\"HOPE AI\")"
   ]
  },
  {
   "cell_type": "code",
   "execution_count": 4,
   "id": "904855a8",
   "metadata": {},
   "outputs": [
    {
     "name": "stdout",
     "output_type": "stream",
     "text": [
      "Enter your institute name? : hope ai\n",
      "hope ai\n"
     ]
    }
   ],
   "source": [
    "A=input(\"Enter your institute name? : \")\n",
    "print(A)"
   ]
  },
  {
   "cell_type": "code",
   "execution_count": 5,
   "id": "b638fd08",
   "metadata": {},
   "outputs": [
    {
     "name": "stdout",
     "output_type": "stream",
     "text": [
      "Enter your name: mani\n",
      "Enter your age: 22\n",
      "Enter your school name: Govt school\n",
      "Enter your drgree: B.E CSE\n"
     ]
    }
   ],
   "source": [
    "A=input(\"Enter your name: \")\n",
    "B=input(\"Enter your age: \")\n",
    "C=input(\"Enter your school name: \")\n",
    "D=input(\"Enter your drgree: \")"
   ]
  },
  {
   "cell_type": "code",
   "execution_count": 7,
   "id": "abd85a3b",
   "metadata": {},
   "outputs": [
    {
     "name": "stdout",
     "output_type": "stream",
     "text": [
      "Num 1 = 43\n",
      "Num 2 = 34\n",
      "Add = 77\n"
     ]
    }
   ],
   "source": [
    "#Addition\n",
    "a=43\n",
    "b=34\n",
    "c=a+b\n",
    "print(\"Num 1 =\",a)\n",
    "print(\"Num 2 =\",b)\n",
    "print(\"Add =\",c)"
   ]
  },
  {
   "cell_type": "code",
   "execution_count": 8,
   "id": "570bec42",
   "metadata": {},
   "outputs": [
    {
     "name": "stdout",
     "output_type": "stream",
     "text": [
      "Num 1 = 43\n",
      "Num 2 = 34\n",
      "Add = 9\n"
     ]
    }
   ],
   "source": [
    "#Subtraction\n",
    "a=43\n",
    "b=34\n",
    "c=a-b\n",
    "print(\"Num 1 =\",a)\n",
    "print(\"Num 2 =\",b)\n",
    "print(\"Sub =\",c)"
   ]
  },
  {
   "cell_type": "code",
   "execution_count": 9,
   "id": "a84688ee",
   "metadata": {},
   "outputs": [
    {
     "name": "stdout",
     "output_type": "stream",
     "text": [
      "Num 1 = 63\n",
      "Num 2 = 97\n",
      "Add = 6111\n"
     ]
    }
   ],
   "source": [
    "#Multiplication\n",
    "a=63\n",
    "b=97\n",
    "c=a*b\n",
    "print(\"Num 1 =\",a)\n",
    "print(\"Num 2 =\",b)\n",
    "print(\"Mul =\",c)"
   ]
  },
  {
   "cell_type": "code",
   "execution_count": 15,
   "id": "d3c0e51d",
   "metadata": {},
   "outputs": [
    {
     "name": "stdout",
     "output_type": "stream",
     "text": [
      "Num 1 = 76\n",
      "Num 2 = 31\n",
      "Mul = 2.4516129032258065\n"
     ]
    }
   ],
   "source": [
    "#Division\n",
    "a=76\n",
    "b=31\n",
    "c=a/b\n",
    "print(\"Num 1 =\",a)\n",
    "print(\"Num 2 =\",b)\n",
    "print(\"Div =\",c)"
   ]
  },
  {
   "cell_type": "code",
   "execution_count": 16,
   "id": "8c97ca96",
   "metadata": {},
   "outputs": [
    {
     "name": "stdout",
     "output_type": "stream",
     "text": [
      "Num 1 = 76\n",
      "Num 2 = 31\n",
      "Floor Div = 2\n"
     ]
    }
   ],
   "source": [
    "#Floor division\n",
    "a=76\n",
    "b=31\n",
    "c=a//b\n",
    "print(\"Num 1 =\",a)\n",
    "print(\"Num 2 =\",b)\n",
    "print(\"Floor Div =\",c)"
   ]
  },
  {
   "cell_type": "code",
   "execution_count": 18,
   "id": "f26b3f6d",
   "metadata": {},
   "outputs": [
    {
     "name": "stdout",
     "output_type": "stream",
     "text": [
      "Num 1 = 7\n",
      "Num 2 = 3\n",
      "Div = 1\n"
     ]
    }
   ],
   "source": [
    "#Modulo\n",
    "a=76\n",
    "b=31\n",
    "c=a%b\n",
    "print(\"Num 1 =\",a)\n",
    "print(\"Num 2 =\",b)\n",
    "print(\"Modulo =\",c)"
   ]
  },
  {
   "cell_type": "code",
   "execution_count": 19,
   "id": "7705a71d",
   "metadata": {},
   "outputs": [
    {
     "name": "stdout",
     "output_type": "stream",
     "text": [
      "Num 1 = 4\n",
      "Num 2 = 4\n",
      "power = 256\n"
     ]
    }
   ],
   "source": [
    "#Power\n",
    "a=4\n",
    "b=4\n",
    "c=a**b\n",
    "print(\"Num 1 =\",a)\n",
    "print(\"Num 2 =\",b)\n",
    "print(\"power =\",c)"
   ]
  },
  {
   "cell_type": "code",
   "execution_count": null,
   "id": "51a4bdb1",
   "metadata": {},
   "outputs": [],
   "source": []
  }
 ],
 "metadata": {
  "kernelspec": {
   "display_name": "Python 3 (ipykernel)",
   "language": "python",
   "name": "python3"
  },
  "language_info": {
   "codemirror_mode": {
    "name": "ipython",
    "version": 3
   },
   "file_extension": ".py",
   "mimetype": "text/x-python",
   "name": "python",
   "nbconvert_exporter": "python",
   "pygments_lexer": "ipython3",
   "version": "3.10.9"
  }
 },
 "nbformat": 4,
 "nbformat_minor": 5
}
