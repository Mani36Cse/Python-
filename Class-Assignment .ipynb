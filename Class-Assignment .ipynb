{
 "cells": [
  {
   "cell_type": "code",
   "execution_count": 3,
   "id": "82895e9d",
   "metadata": {},
   "outputs": [],
   "source": []
  },
  {
   "cell_type": "code",
   "execution_count": 31,
   "id": "e9042a74",
   "metadata": {},
   "outputs": [],
   "source": [
    "class SubfieldsInAI():\n",
    "    AI=[\"Machine Learning\",\"Neural Networks\",\"Vision\",\"Robotics\",\"Speech Processing\",\"Natural Language Processing\"]\n",
    "    def Subfields():\n",
    "        print(\"Sub-fields in AI are:\")\n",
    "        for a in AI:\n",
    "            print(a)"
   ]
  },
  {
   "cell_type": "code",
   "execution_count": 32,
   "id": "6e0804c4",
   "metadata": {},
   "outputs": [
    {
     "name": "stdout",
     "output_type": "stream",
     "text": [
      "Sub-fields in AI are:\n",
      "Machine Learning\n",
      "Neural Networks\n",
      "Vision\n",
      "Robotics\n",
      "Speech Processing\n",
      "Natural Language Processing\n"
     ]
    }
   ],
   "source": [
    "SubfieldsInAI.Subfields()"
   ]
  },
  {
   "cell_type": "code",
   "execution_count": null,
   "id": "b103a1be",
   "metadata": {},
   "outputs": [],
   "source": []
  },
  {
   "cell_type": "code",
   "execution_count": 6,
   "id": "d586301e",
   "metadata": {},
   "outputs": [],
   "source": [
    "class OddEven():\n",
    "    def OddEven():\n",
    "        c=int(input(\"Enter the number :\"))\n",
    "        if (c%2)==0:\n",
    "            b=f\"{c} is even number\"\n",
    "        else:\n",
    "            b=f\"{c} is odd number\"\n",
    "        return b"
   ]
  },
  {
   "cell_type": "code",
   "execution_count": 7,
   "id": "673872f9",
   "metadata": {},
   "outputs": [
    {
     "name": "stdout",
     "output_type": "stream",
     "text": [
      "Enter the number :12\n",
      "12 is even number\n"
     ]
    }
   ],
   "source": [
    "num=OddEven.OddEven()\n",
    "print(num)"
   ]
  },
  {
   "cell_type": "code",
   "execution_count": null,
   "id": "69112a88",
   "metadata": {},
   "outputs": [],
   "source": []
  },
  {
   "cell_type": "code",
   "execution_count": 8,
   "id": "c6f606c2",
   "metadata": {},
   "outputs": [],
   "source": [
    "class ElegiblityForMarriage():\n",
    "    def Elegible():\n",
    "        h=int(input(\"Enter 1 for Male, Enter 2 for Female :\"))\n",
    "        g=int(input(\"Enter your age :\"))\n",
    "        if (h == 1 and g >= 21) or (h == 2 and g >= 18):\n",
    "            print(\"Your ELIGIBLE\")\n",
    "        else:\n",
    "            print(\"Not ELIGIBLE\")"
   ]
  },
  {
   "cell_type": "code",
   "execution_count": 10,
   "id": "4ae16cd2",
   "metadata": {},
   "outputs": [
    {
     "name": "stdout",
     "output_type": "stream",
     "text": [
      "Enter 1 for Male, Enter 2 for Female :2\n",
      "Enter your age :19\n",
      "Your ELIGIBLE\n"
     ]
    }
   ],
   "source": [
    "EL=ElegiblityForMarriage.Elegible()"
   ]
  },
  {
   "cell_type": "code",
   "execution_count": null,
   "id": "44dcef23",
   "metadata": {},
   "outputs": [],
   "source": []
  },
  {
   "cell_type": "code",
   "execution_count": 27,
   "id": "03b50f6a",
   "metadata": {},
   "outputs": [],
   "source": [
    "class FindPercentage():\n",
    "    def percentage(sub_1,sub_2,sub_3,sub_4,sub_5):\n",
    "        s=sub_1+sub_2+sub_3+sub_4+sub_5\n",
    "        per=(s/500)*100\n",
    "        print(\"Toatl :\",s)\n",
    "        print(\"percentage :\",per)"
   ]
  },
  {
   "cell_type": "code",
   "execution_count": 30,
   "id": "c86b7f41",
   "metadata": {},
   "outputs": [
    {
     "name": "stdout",
     "output_type": "stream",
     "text": [
      "Toatl : 468\n",
      "percentage : 93.60000000000001\n"
     ]
    }
   ],
   "source": [
    "per=FindPercentage.percentage(98,87,95,95,93)"
   ]
  },
  {
   "cell_type": "code",
   "execution_count": null,
   "id": "713daf72",
   "metadata": {},
   "outputs": [],
   "source": []
  },
  {
   "cell_type": "code",
   "execution_count": 23,
   "id": "ab498f8a",
   "metadata": {},
   "outputs": [],
   "source": [
    "class Triangle():\n",
    "    def triangle(Height1,Height2,Breadth):\n",
    "        total=Height1+Height2+Breadth\n",
    "        k=\"Perimeter of Triangle: \"\n",
    "        return k+str(total)\n",
    "    \n",
    "    def tr(Height,Breadth):\n",
    "        h=(Height*Breadth)/2\n",
    "        g=\"Area of Triangle: \"\n",
    "        return g+str(h)"
   ]
  },
  {
   "cell_type": "code",
   "execution_count": 25,
   "id": "7234f998",
   "metadata": {},
   "outputs": [
    {
     "name": "stdout",
     "output_type": "stream",
     "text": [
      "Area of Triangle: 544.0\n",
      "Perimeter of Triangle: 10\n"
     ]
    }
   ],
   "source": [
    "per=Triangle.triangle(2,4,4)\n",
    "per1=Triangle.tr(32,34)\n",
    "print(per1)\n",
    "print(per)"
   ]
  },
  {
   "cell_type": "code",
   "execution_count": null,
   "id": "f42eae55",
   "metadata": {},
   "outputs": [],
   "source": []
  }
 ],
 "metadata": {
  "kernelspec": {
   "display_name": "Python 3 (ipykernel)",
   "language": "python",
   "name": "python3"
  },
  "language_info": {
   "codemirror_mode": {
    "name": "ipython",
    "version": 3
   },
   "file_extension": ".py",
   "mimetype": "text/x-python",
   "name": "python",
   "nbconvert_exporter": "python",
   "pygments_lexer": "ipython3",
   "version": "3.10.9"
  }
 },
 "nbformat": 4,
 "nbformat_minor": 5
}
